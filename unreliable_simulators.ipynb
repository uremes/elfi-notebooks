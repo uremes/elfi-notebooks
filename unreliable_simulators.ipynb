{
 "cells": [
  {
   "cell_type": "markdown",
   "id": "caedb0ac-3c99-4417-8e42-c86839c6feb3",
   "metadata": {},
   "source": [
    "# Simulation errors and time limit\n",
    "\n",
    "This notebook demonstrates how to catch errors and limit simulation time with the `unreliable_simulator` helper."
   ]
  },
  {
   "cell_type": "code",
   "execution_count": 1,
   "id": "8836ce94-0fb2-4a55-9a2b-7977f90cbc1c",
   "metadata": {},
   "outputs": [],
   "source": [
    "import numpy as np\n",
    "import matplotlib.pyplot as plt"
   ]
  },
  {
   "cell_type": "code",
   "execution_count": 2,
   "id": "5f317803-8db3-4df6-bace-8a60c2caa9f9",
   "metadata": {},
   "outputs": [],
   "source": [
    "import elfi"
   ]
  },
  {
   "cell_type": "code",
   "execution_count": 3,
   "id": "2fa9bb4b-3aea-46ba-80ad-4047879285c6",
   "metadata": {},
   "outputs": [],
   "source": [
    "seed = 424050\n",
    "random_state = np.random.RandomState(seed)"
   ]
  },
  {
   "cell_type": "markdown",
   "id": "6b0d06ef-dad7-41c4-bedf-e7808bfe5fd1",
   "metadata": {},
   "source": [
    "## Example 1\n",
    "\n",
    "Assume this is a complex code that simulates task completion time."
   ]
  },
  {
   "cell_type": "code",
   "execution_count": 4,
   "id": "56434fbb-d773-4698-87e0-83248f55fdb9",
   "metadata": {},
   "outputs": [],
   "source": [
    "def unreliable_worker(ave_time, num_tasks=10, random_state=None):\n",
    "    if ave_time < 0.5:\n",
    "        raise ValueError(\"ave time must exceed 0.5\")\n",
    "    random_state = random_state or np.random.RandomState()\n",
    "    current_time = 0\n",
    "    completed = 0\n",
    "    while completed < num_tasks:\n",
    "        task_completion_time = (ave_time-0.5) + random_state.exponential(0.5)\n",
    "        if current_time + task_completion_time > 50:\n",
    "            raise RuntimeError(\"worker collapsed\")\n",
    "        else:\n",
    "            current_time += task_completion_time\n",
    "            completed += 1\n",
    "    return current_time"
   ]
  },
  {
   "cell_type": "markdown",
   "id": "29aaf4f0-7933-42b0-8d8a-5be2b7889433",
   "metadata": {},
   "source": [
    "We can see that the code is unreliable."
   ]
  },
  {
   "cell_type": "code",
   "execution_count": 5,
   "id": "236edee8-4ef0-4865-beb3-00c5f57e2be9",
   "metadata": {},
   "outputs": [
    {
     "data": {
      "text/plain": [
       "49.45281996600789"
      ]
     },
     "execution_count": 5,
     "metadata": {},
     "output_type": "execute_result"
    }
   ],
   "source": [
    "unreliable_worker(5, random_state=random_state)"
   ]
  },
  {
   "cell_type": "code",
   "execution_count": 6,
   "id": "aa9bf235-baf4-402b-ab9d-45205c0b32c4",
   "metadata": {},
   "outputs": [
    {
     "ename": "RuntimeError",
     "evalue": "worker collapsed",
     "output_type": "error",
     "traceback": [
      "\u001b[0;31m---------------------------------------------------------------------------\u001b[0m",
      "\u001b[0;31mRuntimeError\u001b[0m                              Traceback (most recent call last)",
      "Cell \u001b[0;32mIn[6], line 1\u001b[0m\n\u001b[0;32m----> 1\u001b[0m \u001b[43munreliable_worker\u001b[49m\u001b[43m(\u001b[49m\u001b[38;5;241;43m5\u001b[39;49m\u001b[43m,\u001b[49m\u001b[43m \u001b[49m\u001b[43mrandom_state\u001b[49m\u001b[38;5;241;43m=\u001b[39;49m\u001b[43mrandom_state\u001b[49m\u001b[43m)\u001b[49m\n",
      "Cell \u001b[0;32mIn[4], line 10\u001b[0m, in \u001b[0;36munreliable_worker\u001b[0;34m(ave_time, num_tasks, random_state)\u001b[0m\n\u001b[1;32m      8\u001b[0m task_completion_time \u001b[38;5;241m=\u001b[39m (ave_time\u001b[38;5;241m-\u001b[39m\u001b[38;5;241m0.5\u001b[39m) \u001b[38;5;241m+\u001b[39m random_state\u001b[38;5;241m.\u001b[39mexponential(\u001b[38;5;241m0.5\u001b[39m)\n\u001b[1;32m      9\u001b[0m \u001b[38;5;28;01mif\u001b[39;00m current_time \u001b[38;5;241m+\u001b[39m task_completion_time \u001b[38;5;241m>\u001b[39m \u001b[38;5;241m50\u001b[39m:\n\u001b[0;32m---> 10\u001b[0m     \u001b[38;5;28;01mraise\u001b[39;00m \u001b[38;5;167;01mRuntimeError\u001b[39;00m(\u001b[38;5;124m\"\u001b[39m\u001b[38;5;124mworker collapsed\u001b[39m\u001b[38;5;124m\"\u001b[39m)\n\u001b[1;32m     11\u001b[0m \u001b[38;5;28;01melse\u001b[39;00m:\n\u001b[1;32m     12\u001b[0m     current_time \u001b[38;5;241m+\u001b[39m\u001b[38;5;241m=\u001b[39m task_completion_time\n",
      "\u001b[0;31mRuntimeError\u001b[0m: worker collapsed"
     ]
    }
   ],
   "source": [
    "unreliable_worker(5, random_state=random_state)"
   ]
  },
  {
   "cell_type": "markdown",
   "id": "8122175e-ef8b-4556-a88c-34ac237a89e5",
   "metadata": {},
   "source": [
    "Let us catch the runtime errors and have failed simulation runs return 0."
   ]
  },
  {
   "cell_type": "code",
   "execution_count": 7,
   "id": "a07081b8-f240-4e03-9491-25f2b7755d4a",
   "metadata": {},
   "outputs": [],
   "source": [
    "sim = elfi.tools.unreliable_operation(unreliable_worker, known_errors=RuntimeError, error_output=0)"
   ]
  },
  {
   "cell_type": "code",
   "execution_count": 8,
   "id": "1d6c37de-4463-432a-8c5f-96966be5a5cb",
   "metadata": {},
   "outputs": [
    {
     "name": "stderr",
     "output_type": "stream",
     "text": [
      "Exception occurred: worker collapsed\n"
     ]
    },
    {
     "data": {
      "text/plain": [
       "0"
      ]
     },
     "execution_count": 8,
     "metadata": {},
     "output_type": "execute_result"
    }
   ],
   "source": [
    "sim(7)"
   ]
  },
  {
   "cell_type": "markdown",
   "id": "2d26731d-ac8a-47fe-8b60-ec95a908fc78",
   "metadata": {},
   "source": [
    "We can now vectorise the simulator and run parameter inference:"
   ]
  },
  {
   "cell_type": "code",
   "execution_count": 9,
   "id": "371c8ee5-aa61-4750-b377-cad6c1babba1",
   "metadata": {},
   "outputs": [],
   "source": [
    "sim_vec = elfi.tools.vectorize(sim)"
   ]
  },
  {
   "cell_type": "code",
   "execution_count": 10,
   "id": "a1f308c6-c61f-4ae7-8e23-3e6174282e80",
   "metadata": {},
   "outputs": [],
   "source": [
    "obs = 20"
   ]
  },
  {
   "cell_type": "code",
   "execution_count": 11,
   "id": "8ba63eeb-17e9-4717-b119-e7435777f97d",
   "metadata": {},
   "outputs": [],
   "source": [
    "m = elfi.ElfiModel(name='')\n",
    "ave_time = elfi.Prior('uniform', 1, 5, model=m)\n",
    "y = elfi.Simulator(sim_vec, ave_time, observed=[obs])\n",
    "d = elfi.Distance('euclidean', y)"
   ]
  },
  {
   "cell_type": "code",
   "execution_count": 12,
   "id": "0ac6f6c1-6391-48af-b4f7-c304ac2eec86",
   "metadata": {},
   "outputs": [
    {
     "name": "stderr",
     "output_type": "stream",
     "text": [
      "Exception occurred: worker collapsed\n",
      "Exception occurred: worker collapsed\n",
      "Exception occurred: worker collapsed\n",
      "Exception occurred: worker collapsed\n",
      "Exception occurred: worker collapsed\n",
      "Exception occurred: worker collapsed\n",
      "Exception occurred: worker collapsed\n",
      "Exception occurred: worker collapsed\n",
      "Exception occurred: worker collapsed\n",
      "Exception occurred: worker collapsed\n",
      "Exception occurred: worker collapsed\n",
      "Exception occurred: worker collapsed\n",
      "Exception occurred: worker collapsed\n",
      "Exception occurred: worker collapsed\n",
      "Exception occurred: worker collapsed\n",
      "Exception occurred: worker collapsed\n",
      "Exception occurred: worker collapsed\n",
      "Exception occurred: worker collapsed\n",
      "Exception occurred: worker collapsed\n",
      "Exception occurred: worker collapsed\n",
      "Exception occurred: worker collapsed\n",
      "Exception occurred: worker collapsed\n",
      "Exception occurred: worker collapsed\n"
     ]
    }
   ],
   "source": [
    "rej = elfi.Rejection(d, seed=seed)\n",
    "res = rej.sample(10, quantile=0.1, bar=False)"
   ]
  },
  {
   "cell_type": "code",
   "execution_count": 13,
   "id": "7f344b61-b7fb-4ec7-89d2-7e88b2f61162",
   "metadata": {},
   "outputs": [
    {
     "data": {
      "text/plain": [
       "Method: Rejection\n",
       "Number of samples: 10\n",
       "Number of simulations: 100\n",
       "Threshold: 2.96\n",
       "Parameter                Mean               2.5%              97.5%\n",
       "ave_time:               1.989              1.308              2.536\n"
      ]
     },
     "execution_count": 13,
     "metadata": {},
     "output_type": "execute_result"
    }
   ],
   "source": [
    "res"
   ]
  },
  {
   "cell_type": "code",
   "execution_count": 14,
   "id": "55404c9b-e551-46b3-b01b-15bb0a1abac8",
   "metadata": {},
   "outputs": [
    {
     "data": {
      "image/png": "[encoded data removed]",
      "text/plain": [
       "<Figure size 640x480 with 1 Axes>"
      ]
     },
     "metadata": {},
     "output_type": "display_data"
    }
   ],
   "source": [
    "plt.hist(res.samples_array, range=(0.5, 5.5), bins=15);"
   ]
  },
  {
   "cell_type": "markdown",
   "id": "656861bf-9b86-4c07-a686-e740e0abef67",
   "metadata": {},
   "source": [
    "## Example 2\n",
    "\n",
    "Assume this is another complex code that simulates task completion time. "
   ]
  },
  {
   "cell_type": "code",
   "execution_count": 15,
   "id": "cbeb2584-fe00-426f-874d-267d6489d8f6",
   "metadata": {},
   "outputs": [],
   "source": [
    "import time"
   ]
  },
  {
   "cell_type": "code",
   "execution_count": 16,
   "id": "644cb875-ecf7-4f15-a1d1-7955511ab9d8",
   "metadata": {},
   "outputs": [],
   "source": [
    "def slow_worker(ave_time, num_tasks=10, random_state=None):\n",
    "    if ave_time < 0.5:\n",
    "        raise ValueError(\"ave time must exceed 0.5\")\n",
    "    random_state = random_state or np.random.RandomState()\n",
    "    completed_hours = 0\n",
    "    completed_tasks = 0\n",
    "    while completed_tasks < num_tasks:\n",
    "        task_completion_time = (ave_time-0.5) + random_state.exponential(0.5)\n",
    "        time.sleep(task_completion_time**2 / 100)\n",
    "        completed_hours += task_completion_time\n",
    "        completed_tasks += 1\n",
    "    return completed_hours"
   ]
  },
  {
   "cell_type": "markdown",
   "id": "8d3ff89c-e8ca-4d09-aa13-de79998a57eb",
   "metadata": {},
   "source": [
    "Run inference with the new simulator:"
   ]
  },
  {
   "cell_type": "code",
   "execution_count": 17,
   "id": "1524a4fb-ae1a-4b5a-90ae-c238a251734b",
   "metadata": {},
   "outputs": [],
   "source": [
    "y.become(elfi.Simulator(elfi.tools.vectorize(slow_worker), ave_time, observed=[obs]))"
   ]
  },
  {
   "cell_type": "code",
   "execution_count": 18,
   "id": "08d2ad50-f3d0-44ad-8bd5-8a91940abc5a",
   "metadata": {},
   "outputs": [],
   "source": [
    "rej = elfi.Rejection(d, seed=seed)"
   ]
  },
  {
   "cell_type": "code",
   "execution_count": 19,
   "id": "71d543b3-d7eb-4bbf-8f02-b70cccba13c3",
   "metadata": {
    "scrolled": true
   },
   "outputs": [
    {
     "name": "stdout",
     "output_type": "stream",
     "text": [
      "CPU times: user 256 ms, sys: 36.8 ms, total: 293 ms\n",
      "Wall time: 2min 48s\n"
     ]
    }
   ],
   "source": [
    "%time res = rej.sample(10, quantile=0.1, bar=False)"
   ]
  },
  {
   "cell_type": "code",
   "execution_count": 20,
   "id": "afb465f9-a75c-45ac-9faa-7bb6b0f788e9",
   "metadata": {},
   "outputs": [
    {
     "data": {
      "text/plain": [
       "Method: Rejection\n",
       "Number of samples: 10\n",
       "Number of simulations: 100\n",
       "Threshold: 2.96\n",
       "Parameter                Mean               2.5%              97.5%\n",
       "ave_time:               1.989              1.308              2.536\n"
      ]
     },
     "execution_count": 20,
     "metadata": {},
     "output_type": "execute_result"
    }
   ],
   "source": [
    "res"
   ]
  },
  {
   "cell_type": "code",
   "execution_count": 21,
   "id": "f53b2010-50c0-449a-ba93-43db279fcfab",
   "metadata": {},
   "outputs": [
    {
     "data": {
      "image/png": "[encoded data removed]",
      "text/plain": [
       "<Figure size 640x480 with 1 Axes>"
      ]
     },
     "metadata": {},
     "output_type": "display_data"
    }
   ],
   "source": [
    "plt.hist(res.samples_array, range=(0.5, 5.5), bins=15);"
   ]
  },
  {
   "cell_type": "markdown",
   "id": "f83d8536-7354-4e26-9605-d91c1851c4c3",
   "metadata": {},
   "source": [
    "The code worked as expected but it was slow. Assume we expected reasonable simulations to take less than a second. We can set a one-second limit on the simulations:"
   ]
  },
  {
   "cell_type": "code",
   "execution_count": 22,
   "id": "9d8f2665-f13d-4fa7-a3af-d5017af75be6",
   "metadata": {},
   "outputs": [],
   "source": [
    "sim = elfi.tools.unreliable_operation(slow_worker, time_limit=1, error_output=0)"
   ]
  },
  {
   "cell_type": "code",
   "execution_count": 23,
   "id": "bc124660-266d-448d-b005-784da7b3bfeb",
   "metadata": {},
   "outputs": [
    {
     "name": "stderr",
     "output_type": "stream",
     "text": [
      "Operation exceeded time limit.\n"
     ]
    },
    {
     "data": {
      "text/plain": [
       "0"
      ]
     },
     "execution_count": 23,
     "metadata": {},
     "output_type": "execute_result"
    }
   ],
   "source": [
    "sim(7)"
   ]
  },
  {
   "cell_type": "markdown",
   "id": "e61cba63-0373-4118-8fa9-8da6feca5c3b",
   "metadata": {},
   "source": [
    "Run inference with the time-limited simulator:"
   ]
  },
  {
   "cell_type": "code",
   "execution_count": 24,
   "id": "320ae70b-a739-4847-a93b-06eb7dc7c4e6",
   "metadata": {},
   "outputs": [],
   "source": [
    "y.become(elfi.Simulator(elfi.tools.vectorize(sim), ave_time, observed=[obs]))"
   ]
  },
  {
   "cell_type": "code",
   "execution_count": 25,
   "id": "2e7a6154-0faa-49f2-a1c1-3c133159c767",
   "metadata": {},
   "outputs": [],
   "source": [
    "rej = elfi.Rejection(d, seed=seed)"
   ]
  },
  {
   "cell_type": "code",
   "execution_count": 26,
   "id": "f3878f56-0922-486b-adee-09239d3758ad",
   "metadata": {},
   "outputs": [
    {
     "name": "stderr",
     "output_type": "stream",
     "text": [
      "Operation exceeded time limit.\n",
      "Operation exceeded time limit.\n",
      "Operation exceeded time limit.\n",
      "Operation exceeded time limit.\n",
      "Operation exceeded time limit.\n",
      "Operation exceeded time limit.\n",
      "Operation exceeded time limit.\n",
      "Operation exceeded time limit.\n",
      "Operation exceeded time limit.\n",
      "Operation exceeded time limit.\n",
      "Operation exceeded time limit.\n",
      "Operation exceeded time limit.\n",
      "Operation exceeded time limit.\n",
      "Operation exceeded time limit.\n",
      "Operation exceeded time limit.\n",
      "Operation exceeded time limit.\n",
      "Operation exceeded time limit.\n",
      "Operation exceeded time limit.\n",
      "Operation exceeded time limit.\n",
      "Operation exceeded time limit.\n",
      "Operation exceeded time limit.\n",
      "Operation exceeded time limit.\n",
      "Operation exceeded time limit.\n",
      "Operation exceeded time limit.\n",
      "Operation exceeded time limit.\n",
      "Operation exceeded time limit.\n",
      "Operation exceeded time limit.\n",
      "Operation exceeded time limit.\n",
      "Operation exceeded time limit.\n",
      "Operation exceeded time limit.\n",
      "Operation exceeded time limit.\n",
      "Operation exceeded time limit.\n",
      "Operation exceeded time limit.\n",
      "Operation exceeded time limit.\n",
      "Operation exceeded time limit.\n",
      "Operation exceeded time limit.\n",
      "Operation exceeded time limit.\n",
      "Operation exceeded time limit.\n",
      "Operation exceeded time limit.\n",
      "Operation exceeded time limit.\n",
      "Operation exceeded time limit.\n",
      "Operation exceeded time limit.\n",
      "Operation exceeded time limit.\n",
      "Operation exceeded time limit.\n",
      "Operation exceeded time limit.\n",
      "Operation exceeded time limit.\n",
      "Operation exceeded time limit.\n",
      "Operation exceeded time limit.\n",
      "Operation exceeded time limit.\n",
      "Operation exceeded time limit.\n",
      "Operation exceeded time limit.\n",
      "Operation exceeded time limit.\n",
      "Operation exceeded time limit.\n",
      "Operation exceeded time limit.\n",
      "Operation exceeded time limit.\n",
      "Operation exceeded time limit.\n",
      "Operation exceeded time limit.\n",
      "Operation exceeded time limit.\n",
      "Operation exceeded time limit.\n",
      "Operation exceeded time limit.\n",
      "Operation exceeded time limit.\n",
      "Operation exceeded time limit.\n",
      "Operation exceeded time limit.\n",
      "Operation exceeded time limit.\n",
      "Operation exceeded time limit.\n",
      "Operation exceeded time limit.\n",
      "Operation exceeded time limit.\n",
      "Operation exceeded time limit.\n",
      "Operation exceeded time limit.\n"
     ]
    },
    {
     "name": "stdout",
     "output_type": "stream",
     "text": [
      "CPU times: user 390 ms, sys: 91.4 ms, total: 482 ms\n",
      "Wall time: 1min 26s\n"
     ]
    }
   ],
   "source": [
    "%time res = rej.sample(10, quantile=0.1, bar=False)"
   ]
  },
  {
   "cell_type": "code",
   "execution_count": 27,
   "id": "db8a5923-2d1d-4610-a160-05ffc5e0b007",
   "metadata": {},
   "outputs": [
    {
     "data": {
      "text/plain": [
       "Method: Rejection\n",
       "Number of samples: 10\n",
       "Number of simulations: 100\n",
       "Threshold: 2.96\n",
       "Parameter                Mean               2.5%              97.5%\n",
       "ave_time:               1.989              1.308              2.536\n"
      ]
     },
     "execution_count": 27,
     "metadata": {},
     "output_type": "execute_result"
    }
   ],
   "source": [
    "res"
   ]
  },
  {
   "cell_type": "code",
   "execution_count": 28,
   "id": "ed39c4e4-644a-434f-b498-6803d4433852",
   "metadata": {},
   "outputs": [
    {
     "data": {
      "image/png": "[encoded data removed]",
      "text/plain": [
       "<Figure size 640x480 with 1 Axes>"
      ]
     },
     "metadata": {},
     "output_type": "display_data"
    }
   ],
   "source": [
    "plt.hist(res.samples_array, range=(0.5, 5.5), bins=15);"
   ]
  },
  {
   "cell_type": "code",
   "execution_count": null,
   "id": "76af57da-e85e-48f3-91a3-53d7986d54c3",
   "metadata": {},
   "outputs": [],
   "source": []
  }
 ],
 "metadata": {
  "kernelspec": {
   "display_name": "Python (elfi_oma)",
   "language": "python",
   "name": "elfi_oma"
  },
  "language_info": {
   "codemirror_mode": {
    "name": "ipython",
    "version": 3
   },
   "file_extension": ".py",
   "mimetype": "text/x-python",
   "name": "python",
   "nbconvert_exporter": "python",
   "pygments_lexer": "ipython3",
   "version": "3.9.18"
  }
 },
 "nbformat": 4,
 "nbformat_minor": 5
}
